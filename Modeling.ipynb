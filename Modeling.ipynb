{
 "cells": [
  {
   "cell_type": "code",
   "execution_count": null,
   "metadata": {},
   "outputs": [],
   "source": []
  },
  {
   "cell_type": "markdown",
   "metadata": {},
   "source": [
    "Consumer_Loan: Hypertuning"
   ]
  },
  {
   "cell_type": "code",
   "execution_count": null,
   "metadata": {},
   "outputs": [],
   "source": [
    "# model_param = {\n",
    "#     'knn': {\n",
    "#         'model': KNeighborsClassifier(),\n",
    "#         'param' : {'n_neighbors':[3,5,10,100],\n",
    "#                    'weights':['uniform','distance']\n",
    "#                    }\n",
    "#         },\n",
    "#     'Logistic':{\n",
    "#         'model':LogisticRegression(max_iter=10000,solver='sag'), # converge warning hence sag\n",
    "#         'param': { 'C':[1,5,10]}\n",
    "#         },\n",
    "#     'RandomForest': {\n",
    "#         'model': RandomForestClassifier(),\n",
    "#         'param' : {'n_estimators':[5,10,50,100]}\n",
    "#         },\n",
    "#     'DecisionTree':{\n",
    "#         'model': DecisionTreeClassifier(),\n",
    "#         'param' : {'criterion': ['gini', 'entropy'],\n",
    "#             'max_depth': [None, 10, 20, 30],  \n",
    "#             'min_samples_split': [2, 5, 10],  \n",
    "#             'min_samples_leaf': [1, 2, 4]}\n",
    "#         },\n",
    "#     'XGBoost':{\n",
    "#         'model': XGBClassifier(),\n",
    "#         'param':{'learning_rate': [0.01, 0.1, 0.2],\n",
    "#             'n_estimators': [5,10,50,100],\n",
    "#             'max_depth': [3, 5, 7],\n",
    "#             # 'min_child_weight': [1, 3, 5],\n",
    "#             # 'subsample': [0.8, 1.0],\n",
    "#             # 'colsample_bytree': [0.8, 1.0],\n",
    "#             # 'gamma': [0, 0.1, 0.2],\n",
    "#             # 'scale_pos_weight': [1, 2, 3]}\n",
    "#         }\n",
    "# }\n",
    "# }\n"
   ]
  },
  {
   "cell_type": "markdown",
   "metadata": {},
   "source": [
    "#### Cross Validation - CL"
   ]
  },
  {
   "cell_type": "code",
   "execution_count": null,
   "metadata": {},
   "outputs": [],
   "source": [
    "# scores = []\n",
    "\n",
    "# for model_name, mp in model_param.items():\n",
    "#     hyperpara_model = GridSearchCV(mp['model'],cv=5,return_train_score=False)\n",
    "#     hyperpara_model.fit(X_cl,y_sale_cl)\n",
    "#     scores.append({\n",
    "#         'model': model_name,\n",
    "#         'best_score':hyperpara_model.best_score_,\n",
    "#         'best_param':hyperpara_model.best_params_\n",
    "#     })"
   ]
  }
 ],
 "metadata": {
  "kernelspec": {
   "display_name": "kbc_env",
   "language": "python",
   "name": "python3"
  },
  "language_info": {
   "name": "python",
   "version": "3.11.6"
  }
 },
 "nbformat": 4,
 "nbformat_minor": 2
}
