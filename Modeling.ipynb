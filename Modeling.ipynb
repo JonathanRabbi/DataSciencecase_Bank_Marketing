{
 "cells": [
  {
   "cell_type": "code",
   "execution_count": null,
   "metadata": {},
   "outputs": [],
   "source": []
  },
  {
   "cell_type": "markdown",
   "metadata": {},
   "source": [
    "Consumer_Loan: Hypertuning"
   ]
  },
  {
   "cell_type": "code",
   "execution_count": null,
   "metadata": {},
   "outputs": [],
   "source": [
    "# model_param = {\n",
    "#     'knn': {\n",
    "#         'model': KNeighborsClassifier(),\n",
    "#         'param' : {'n_neighbors':[3,5,10,100],\n",
    "#                    'weights':['uniform','distance']\n",
    "#                    }\n",
    "#         },\n",
    "#     'Logistic':{\n",
    "#         'model':LogisticRegression(max_iter=10000,solver='sag'), # converge warning hence sag\n",
    "#         'param': { 'C':[1,5,10]}\n",
    "#         },\n",
    "#     'RandomForest': {\n",
    "#         'model': RandomForestClassifier(),\n",
    "#         'param' : {'n_estimators':[5,10,50,100]}\n",
    "#         },\n",
    "#     'DecisionTree':{\n",
    "#         'model': DecisionTreeClassifier(),\n",
    "#         'param' : {'criterion': ['gini', 'entropy'],\n",
    "#             'max_depth': [None, 10, 20, 30],  \n",
    "#             'min_samples_split': [2, 5, 10],  \n",
    "#             'min_samples_leaf': [1, 2, 4]}\n",
    "#         },\n",
    "#     'XGBoost':{\n",
    "#         'model': XGBClassifier(),\n",
    "#         'param':{'learning_rate': [0.01, 0.1, 0.2],\n",
    "#             'n_estimators': [5,10,50,100],\n",
    "#             'max_depth': [3, 5, 7],\n",
    "#             # 'min_child_weight': [1, 3, 5],\n",
    "#             # 'subsample': [0.8, 1.0],\n",
    "#             # 'colsample_bytree': [0.8, 1.0],\n",
    "#             # 'gamma': [0, 0.1, 0.2],\n",
    "#             # 'scale_pos_weight': [1, 2, 3]}\n",
    "#         }\n",
    "# }\n",
    "# }\n"
   ]
  },
  {
   "cell_type": "markdown",
   "metadata": {},
   "source": [
    "#### Cross Validation - CL"
   ]
  },
  {
   "cell_type": "code",
   "execution_count": null,
   "metadata": {},
   "outputs": [],
   "source": [
    "# scores = []\n",
    "\n",
    "# for model_name, mp in model_param.items():\n",
    "#     hyperpara_model = GridSearchCV(mp['model'],cv=5,return_train_score=False)\n",
    "#     hyperpara_model.fit(X_cl,y_sale_cl)\n",
    "#     scores.append({\n",
    "#         'model': model_name,\n",
    "#         'best_score':hyperpara_model.best_score_,\n",
    "#         'best_param':hyperpara_model.best_params_\n",
    "#     })"
   ]
  },
  {
   "cell_type": "code",
   "execution_count": null,
   "metadata": {},
   "outputs": [],
   "source": [
    "#scaler.feature_names_in_\n",
    "\n",
    "# import pandas as pd\n",
    "# import numpy as np\n",
    "\n",
    "# # Assuming your array is named 'features_array'\n",
    "# features_array = np.array(['Client', 'Sex', 'Age', 'Tenure', 'Count_CA', 'Count_SA',\n",
    "#                            'Count_MF', 'Count_OVD', 'Count_CC', 'ActBal_CA', 'ActBal_SA',\n",
    "#                            'ActBal_MF', 'ActBal_OVD', 'ActBal_CC', 'VolumeCred',\n",
    "#                            'VolumeCred_CA', 'TransactionsCred', 'TransactionsCred_CA',\n",
    "#                            'VolumeDeb', 'VolumeDeb_CA', 'VolumeDebCash_Card',\n",
    "#                            'VolumeDebCashless_Card', 'VolumeDeb_PaymentOrder',\n",
    "#                            'TransactionsDeb', 'TransactionsDeb_CA',\n",
    "#                            'TransactionsDebCash_Card', 'TransactionsDebCashless_Card',\n",
    "#                            'TransactionsDeb_PaymentOrder'])\n",
    "\n",
    "# # Create a DataFrame\n",
    "# features_df = pd.DataFrame(features_array, columns=['Features'])\n",
    "\n",
    "# # Now you can access the features using features_df\n",
    "# print(features_df)"
   ]
  }
 ],
 "metadata": {
  "kernelspec": {
   "display_name": "kbc_env",
   "language": "python",
   "name": "python3"
  },
  "language_info": {
   "name": "python",
   "version": "3.11.6"
  }
 },
 "nbformat": 4,
 "nbformat_minor": 2
}
