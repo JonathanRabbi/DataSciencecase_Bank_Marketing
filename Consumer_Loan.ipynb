{
 "cells": [
  {
   "cell_type": "markdown",
   "metadata": {},
   "source": [
    "#### Merge Datasets"
   ]
  },
  {
   "cell_type": "code",
   "execution_count": null,
   "metadata": {},
   "outputs": [],
   "source": [
    "import pandas as pd\n",
    "import numpy as np\n",
    "import matplotlib.pyplot as plt\n",
    "import seaborn as sns\n",
    "import os\n",
    "import warnings\n",
    "\n",
    "#File path\n",
    "excel_file_path = 'Excel_files/Task_Data_Scientist_Dataset.xlsx'\n",
    "\n",
    "# Make excel sheets into dataframes\n",
    "df_sheet2 = pd.read_excel(excel_file_path, sheet_name='Soc_Dem')\n",
    "df_sheet3 = pd.read_excel(excel_file_path, sheet_name='Products_ActBalance')\n",
    "df_sheet4 = pd.read_excel(excel_file_path, sheet_name='Inflow_Outflow')\n",
    "df_sheet5 = pd.read_excel(excel_file_path, sheet_name='Sales_Revenues')\n",
    "\n",
    "# Merging the Dataframes based on the column 'Client'\n",
    "df = pd.merge(df_sheet2, df_sheet3, on='Client', how='outer')\n",
    "df = pd.merge(df, df_sheet4, on='Client', how='outer')\n",
    "\n",
    "# Distinguish the full merged dataset and the individual one accounting for 60%\n",
    "df_merge = pd.merge(df, df_sheet5, on='Client', how='outer')\n",
    "\n",
    "display(df_merge.shape)\n",
    "display(df_merge.head())"
   ]
  },
  {
   "cell_type": "code",
   "execution_count": null,
   "metadata": {},
   "outputs": [],
   "source": [
    "duplicate_rows = df_merge.duplicated().sum()\n",
    "\n",
    "print('Total number of duplicate rows:',duplicate_rows)"
   ]
  },
  {
   "cell_type": "code",
   "execution_count": null,
   "metadata": {},
   "outputs": [],
   "source": [
    "# Create dummy variables for Sex\n",
    "sex_mapping = {'M': 1, 'F': 0}\n",
    "df_merge['Sex'] = df_merge['Sex'].replace(sex_mapping)"
   ]
  },
  {
   "cell_type": "code",
   "execution_count": null,
   "metadata": {},
   "outputs": [],
   "source": [
    "# Replace missing values with 0\n",
    "df_merge = df_merge.replace(np.nan,0)"
   ]
  },
  {
   "cell_type": "code",
   "execution_count": null,
   "metadata": {},
   "outputs": [],
   "source": [
    "# Create Merged excel file\n",
    "\n",
    "current_directory = os.getcwd()\n",
    "output_folder_path = 'Excel_files'\n",
    "\n",
    "# Generating a new excel file with the corresponding excel folder\n",
    "output_excel_path = os.path.join(output_folder_path, 'Merged_dataset.xlsx')\n",
    "\n",
    "df_merge.to_excel(output_excel_path, index=False)"
   ]
  },
  {
   "cell_type": "markdown",
   "metadata": {},
   "source": [
    "#### Exploratory Data Analysis"
   ]
  },
  {
   "cell_type": "markdown",
   "metadata": {},
   "source": [
    "##### Client Age"
   ]
  },
  {
   "cell_type": "code",
   "execution_count": null,
   "metadata": {},
   "outputs": [],
   "source": [
    "# Review the age distribution\n",
    "\n",
    "plt.figure(figsize=(4, 4))\n",
    "\n",
    "sns.histplot(df_merge['Age'], bins=15, edgecolor=\"b\", kde=True)\n",
    "\n",
    "plt.title('Age Distribution')\n",
    "plt.xlabel('Age')\n",
    "plt.ylabel('Amount')\n",
    "\n",
    "plt.show()\n"
   ]
  },
  {
   "cell_type": "markdown",
   "metadata": {},
   "source": [
    "There seem to be ages that are quite young for holding accounts at the bank. Hence, I can assume that these values are erroneous.\n",
    "Here, I will verify how many clients are younger than 10 years old (min. age account opening in Belgium). \n",
    "Moreover, I will verify whether there are irregularities of 'Tenure' being larger than the actual age of a client as well."
   ]
  },
  {
   "cell_type": "code",
   "execution_count": null,
   "metadata": {},
   "outputs": [],
   "source": [
    "# Verify the rows where Age is less than 10 years old\n",
    "\n",
    "age_threshold = df_merge['Age'] < 10\n",
    "print(\"Underage clients:\", age_threshold.sum())"
   ]
  },
  {
   "cell_type": "code",
   "execution_count": null,
   "metadata": {},
   "outputs": [],
   "source": [
    "# Verify when Tenure in years is larger than Age\n",
    "\n",
    "anomaly_tenure = df_merge['Tenure']/12 > df_merge['Age']\n",
    "\n",
    "print(\"Number of Tenure anomalies:\", anomaly_tenure.sum())"
   ]
  },
  {
   "cell_type": "markdown",
   "metadata": {},
   "source": [
    "##### Gender"
   ]
  },
  {
   "cell_type": "code",
   "execution_count": null,
   "metadata": {},
   "outputs": [],
   "source": [
    "warnings.filterwarnings(\"ignore\")\n",
    "\n",
    "df_merge['Sex'] = df_merge['Sex'].astype(str)\n",
    "\n",
    "plt.figure(figsize=(4, 4))\n",
    "\n",
    "\n",
    "sns.countplot(x='Sex', data=df_merge, palette={'0.0': 'orange', '1.0': 'black'})\n",
    "\n",
    "plt.xlabel('Gender')\n",
    "plt.ylabel('Count')\n",
    "plt.title('Distribution of Male and Female')\n",
    "plt.show()"
   ]
  },
  {
   "cell_type": "markdown",
   "metadata": {},
   "source": [
    "##### Sales Revenue"
   ]
  },
  {
   "cell_type": "code",
   "execution_count": null,
   "metadata": {},
   "outputs": [],
   "source": [
    "plt.figure(figsize=(4,4))\n",
    "\n",
    "columns = np.arange(3)\n",
    "revenue = [df_merge['Revenue_CL'].sum(), df_merge['Revenue_CC'].sum(), df_merge['Revenue_MF'].sum()]\n",
    "\n",
    "plt.bar(columns, revenue, align='center', color=[\"black\",\"orange\",\"red\"])\n",
    "plt.xticks(columns, ['Customer Loan','Credit Card','Mutual Fund'])\n",
    "plt.ylabel('Revenue (EUR)')\n",
    "plt.title('Sales Revenue')\n",
    "plt.show()"
   ]
  },
  {
   "cell_type": "code",
   "execution_count": null,
   "metadata": {},
   "outputs": [],
   "source": [
    "plt.figure(figsize=(4,4))\n",
    "\n",
    "columns = np.arange(3)\n",
    "revenue = [df_merge['Sale_CL'].sum(), df_merge['Sale_CC'].sum(), df_merge['Sale_MF'].sum()]\n",
    "\n",
    "plt.bar(columns, revenue, align='center', color=[\"black\",\"orange\",\"red\"])\n",
    "plt.xticks(columns, ['Customer Loan','Credit Card','Mutual Fund'])\n",
    "plt.ylabel('Count')\n",
    "plt.title('Number of Sales per Product')\n",
    "plt.show()"
   ]
  },
  {
   "cell_type": "markdown",
   "metadata": {},
   "source": [
    "#### Training Set per Product"
   ]
  },
  {
   "cell_type": "markdown",
   "metadata": {},
   "source": [
    "##### Merge Training Set"
   ]
  },
  {
   "cell_type": "code",
   "execution_count": null,
   "metadata": {},
   "outputs": [],
   "source": [
    "# 60% conveying training set, hence excluding df_merge\n",
    "df_train = pd.merge(df, df_sheet5, on='Client', how='inner')\n",
    "\n",
    "display(df_train.shape)\n",
    "display(df_train.head())"
   ]
  },
  {
   "cell_type": "markdown",
   "metadata": {},
   "source": [
    "##### Gender"
   ]
  },
  {
   "cell_type": "code",
   "execution_count": null,
   "metadata": {},
   "outputs": [],
   "source": [
    "# Replace M/F with dummy variables\n",
    "df_train['Sex'] = df_train['Sex'].replace(sex_mapping)"
   ]
  },
  {
   "cell_type": "code",
   "execution_count": null,
   "metadata": {},
   "outputs": [],
   "source": [
    "missing_value_sex= df_train['Sex'].isnull().sum()\n",
    "display(missing_value_sex)\n",
    "\n",
    "# Replace missing values with 0\n",
    "df_train = df_train.replace(np.nan,0)"
   ]
  },
  {
   "cell_type": "markdown",
   "metadata": {},
   "source": [
    "##### Age and Tenure"
   ]
  },
  {
   "cell_type": "code",
   "execution_count": null,
   "metadata": {},
   "outputs": [],
   "source": [
    "# Replacing ages younger than 10 with the mean\n",
    "\n",
    "mean_age = df_train['Age'].mean()\n",
    "df_train.loc[df_train['Age'] < 10, 'Age'] = mean_age\n",
    "\n",
    "mean_tenure = df_train['Tenure'].mean()\n",
    "df_train.loc[df_train['Tenure']/12 > df_train['Age'],'Tenure'] = int(mean_tenure)"
   ]
  },
  {
   "cell_type": "code",
   "execution_count": null,
   "metadata": {},
   "outputs": [],
   "source": [
    "# Verifying if Age and Tenure are making sense\n",
    "age_threshold_train = df_train['Age'] < 10\n",
    "print(\"Underage clients:\", age_threshold_train.sum())\n",
    "\n",
    "anomaly_tenure_train = df_train['Tenure']/12 > df_train['Age']\n",
    "print(\"Number of Tenure anomalies:\", anomaly_tenure_train.sum())"
   ]
  },
  {
   "cell_type": "markdown",
   "metadata": {},
   "source": [
    "##### Types"
   ]
  },
  {
   "cell_type": "code",
   "execution_count": null,
   "metadata": {},
   "outputs": [],
   "source": [
    "df_train[df_train.columns].info()"
   ]
  },
  {
   "cell_type": "markdown",
   "metadata": {},
   "source": [
    "##### Missing Values"
   ]
  },
  {
   "cell_type": "code",
   "execution_count": null,
   "metadata": {},
   "outputs": [],
   "source": [
    "percent_missing = round(df_train.isnull().sum() * 100 / len(df),2)\n",
    "missing_value_df = pd.DataFrame({'Missing_Percentage': percent_missing})\n",
    "missing_value_df.sort_values(by=\"Missing_Percentage\",ascending=False)"
   ]
  },
  {
   "cell_type": "markdown",
   "metadata": {},
   "source": [
    "##### Training Sets"
   ]
  },
  {
   "cell_type": "code",
   "execution_count": null,
   "metadata": {},
   "outputs": [],
   "source": [
    "# Create full training set for consumer loan\n",
    "consumer_loan = ['Sale_MF','Sale_CC','Revenue_MF','Revenue_CC','Count_CL','ActBal_CL']\n",
    "df_train_cl = df_train.drop(consumer_loan,axis=1)\n",
    "\n",
    "# Create full training set for credit card\n",
    "credit_card = ['Sale_MF','Sale_CL','Revenue_MF','Revenue_CL','Count_CC','ActBal_CC']\n",
    "df_train_cc  = df_train.drop(credit_card,axis=1)\n",
    "\n",
    "# Create full training set for mutual fund\n",
    "mutual_fund = ['Sale_CC','Sale_CL','Revenue_CC','Revenue_CL','Count_MF','ActBal_MF']\n",
    "df_train_mf = df_train.drop(mutual_fund,axis=1)"
   ]
  },
  {
   "cell_type": "code",
   "execution_count": null,
   "metadata": {},
   "outputs": [],
   "source": [
    "print(df_train_cl.shape)\n",
    "print(df_train_cc.shape)\n",
    "print(df_train_mf.shape)"
   ]
  },
  {
   "cell_type": "markdown",
   "metadata": {},
   "source": [
    "#### Modeling"
   ]
  },
  {
   "cell_type": "code",
   "execution_count": null,
   "metadata": {},
   "outputs": [],
   "source": []
  }
 ],
 "metadata": {
  "kernelspec": {
   "display_name": "kbc_env",
   "language": "python",
   "name": "python3"
  },
  "language_info": {
   "codemirror_mode": {
    "name": "ipython",
    "version": 3
   },
   "file_extension": ".py",
   "mimetype": "text/x-python",
   "name": "python",
   "nbconvert_exporter": "python",
   "pygments_lexer": "ipython3",
   "version": "3.11.6"
  }
 },
 "nbformat": 4,
 "nbformat_minor": 2
}
