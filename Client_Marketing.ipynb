{
 "cells": [
  {
   "cell_type": "code",
   "execution_count": 1,
   "metadata": {},
   "outputs": [],
   "source": [
    "import pandas as pd\n",
    "import numpy as np\n",
    "import matplotlib.pyplot as plt\n",
    "import seaborn as sns\n",
    "import os\n",
    "import warnings\n",
    "import pickle"
   ]
  },
  {
   "cell_type": "markdown",
   "metadata": {},
   "source": [
    "#### Top 100 Clients for Marketing Outreach"
   ]
  },
  {
   "cell_type": "code",
   "execution_count": 2,
   "metadata": {},
   "outputs": [],
   "source": [
    "with open('Pickle_Files/Revenue_MF.pkl', 'rb') as f5:\n",
    "     mutual_fund= pickle.load(f5)\n",
    "with open('Pickle_Files/Revenue_CC.pkl', 'rb') as f6:\n",
    "     credit_card= pickle.load(f6)\n",
    "with open('Pickle_Files/Revenue_CL.pkl', 'rb') as f7:\n",
    "     consumer_loan= pickle.load(f7)"
   ]
  },
  {
   "cell_type": "code",
   "execution_count": 7,
   "metadata": {},
   "outputs": [
    {
     "data": {
      "text/plain": [
       "Product\n",
       "CC    80\n",
       "MF    20\n",
       "Name: count, dtype: int64"
      ]
     },
     "metadata": {},
     "output_type": "display_data"
    },
    {
     "data": {
      "text/html": [
       "<div>\n",
       "<style scoped>\n",
       "    .dataframe tbody tr th:only-of-type {\n",
       "        vertical-align: middle;\n",
       "    }\n",
       "\n",
       "    .dataframe tbody tr th {\n",
       "        vertical-align: top;\n",
       "    }\n",
       "\n",
       "    .dataframe thead th {\n",
       "        text-align: right;\n",
       "    }\n",
       "</style>\n",
       "<table border=\"1\" class=\"dataframe\">\n",
       "  <thead>\n",
       "    <tr style=\"text-align: right;\">\n",
       "      <th></th>\n",
       "      <th>Client</th>\n",
       "      <th>Revenue</th>\n",
       "      <th>Probability</th>\n",
       "      <th>Product</th>\n",
       "    </tr>\n",
       "  </thead>\n",
       "  <tbody>\n",
       "    <tr>\n",
       "      <th>560</th>\n",
       "      <td>1487</td>\n",
       "      <td>3.884743</td>\n",
       "      <td>0.87</td>\n",
       "      <td>CC</td>\n",
       "    </tr>\n",
       "    <tr>\n",
       "      <th>399</th>\n",
       "      <td>978</td>\n",
       "      <td>11.384811</td>\n",
       "      <td>0.87</td>\n",
       "      <td>CC</td>\n",
       "    </tr>\n",
       "    <tr>\n",
       "      <th>32</th>\n",
       "      <td>1076</td>\n",
       "      <td>6.343304</td>\n",
       "      <td>0.87</td>\n",
       "      <td>CC</td>\n",
       "    </tr>\n",
       "    <tr>\n",
       "      <th>52</th>\n",
       "      <td>19</td>\n",
       "      <td>4.588461</td>\n",
       "      <td>0.85</td>\n",
       "      <td>CC</td>\n",
       "    </tr>\n",
       "    <tr>\n",
       "      <th>325</th>\n",
       "      <td>1262</td>\n",
       "      <td>3.857543</td>\n",
       "      <td>0.84</td>\n",
       "      <td>CC</td>\n",
       "    </tr>\n",
       "    <tr>\n",
       "      <th>...</th>\n",
       "      <td>...</td>\n",
       "      <td>...</td>\n",
       "      <td>...</td>\n",
       "      <td>...</td>\n",
       "    </tr>\n",
       "    <tr>\n",
       "      <th>103</th>\n",
       "      <td>1414</td>\n",
       "      <td>7.283686</td>\n",
       "      <td>0.43</td>\n",
       "      <td>CC</td>\n",
       "    </tr>\n",
       "    <tr>\n",
       "      <th>191</th>\n",
       "      <td>710</td>\n",
       "      <td>2.392539</td>\n",
       "      <td>0.43</td>\n",
       "      <td>CC</td>\n",
       "    </tr>\n",
       "    <tr>\n",
       "      <th>285</th>\n",
       "      <td>951</td>\n",
       "      <td>4.588114</td>\n",
       "      <td>0.43</td>\n",
       "      <td>CC</td>\n",
       "    </tr>\n",
       "    <tr>\n",
       "      <th>215</th>\n",
       "      <td>1526</td>\n",
       "      <td>2.762964</td>\n",
       "      <td>0.43</td>\n",
       "      <td>CC</td>\n",
       "    </tr>\n",
       "    <tr>\n",
       "      <th>495</th>\n",
       "      <td>206</td>\n",
       "      <td>11.148539</td>\n",
       "      <td>0.43</td>\n",
       "      <td>CC</td>\n",
       "    </tr>\n",
       "  </tbody>\n",
       "</table>\n",
       "<p>100 rows × 4 columns</p>\n",
       "</div>"
      ],
      "text/plain": [
       "     Client    Revenue  Probability Product\n",
       "560    1487   3.884743         0.87      CC\n",
       "399     978  11.384811         0.87      CC\n",
       "32     1076   6.343304         0.87      CC\n",
       "52       19   4.588461         0.85      CC\n",
       "325    1262   3.857543         0.84      CC\n",
       "..      ...        ...          ...     ...\n",
       "103    1414   7.283686         0.43      CC\n",
       "191     710   2.392539         0.43      CC\n",
       "285     951   4.588114         0.43      CC\n",
       "215    1526   2.762964         0.43      CC\n",
       "495     206  11.148539         0.43      CC\n",
       "\n",
       "[100 rows x 4 columns]"
      ]
     },
     "execution_count": 7,
     "metadata": {},
     "output_type": "execute_result"
    }
   ],
   "source": [
    "# Extract top 100 clients and their respective product\n",
    "marketing_clients = pd.concat([mutual_fund, credit_card, consumer_loan])\n",
    "\n",
    "marketing_clients.sort_values(by=['Probability'], ascending=False,inplace=True)\n",
    "\n",
    "marketing_clients.drop_duplicates(subset='Client', keep='first',inplace=True)\n",
    "\n",
    "top_100_revenues = marketing_clients.head(100)\n",
    "\n",
    "display(top_100_revenues['Product'].value_counts())\n",
    "top_100_revenues"
   ]
  },
  {
   "cell_type": "code",
   "execution_count": 8,
   "metadata": {},
   "outputs": [
    {
     "data": {
      "image/png": "[encoded data removed]",
      "text/plain": [
       "<Figure size 400x400 with 1 Axes>"
      ]
     },
     "metadata": {},
     "output_type": "display_data"
    }
   ],
   "source": [
    "\n",
    "warnings.filterwarnings(\"ignore\")\n",
    "fig, ax1 = plt.subplots(nrows=1, ncols=1, figsize=(4, 4))\n",
    "\n",
    "sns.countplot(x='Product', data=top_100_revenues, palette=[\"black\", \"orange\", \"red\"], ax=ax1)\n",
    "ax1.set_xlabel('Product Type')\n",
    "ax1.set_ylabel('Count')\n",
    "ax1.set_title('Product Type in Top 100 Revenues')\n",
    "\n",
    "plt.show()"
   ]
  },
  {
   "cell_type": "code",
   "execution_count": 9,
   "metadata": {},
   "outputs": [
    {
     "name": "stdout",
     "output_type": "stream",
     "text": [
      "Potential revenue to be generated: 1084 EUR\n"
     ]
    }
   ],
   "source": [
    "# Potential Revenue Generated\n",
    "\n",
    "print(f'Potential revenue to be generated: { int(top_100_revenues[\"Revenue\"].sum())} EUR')"
   ]
  },
  {
   "cell_type": "code",
   "execution_count": 10,
   "metadata": {},
   "outputs": [],
   "source": [
    "output_folder_path = 'Excel_files'\n",
    "\n",
    "# Generating a new excel file with the corresponding excel folder\n",
    "output_excel_path = os.path.join(output_folder_path, 'Client_Revenue.xlsx')\n",
    "\n",
    "top_100_revenues.to_excel(output_excel_path, index=False)"
   ]
  }
 ],
 "metadata": {
  "kernelspec": {
   "display_name": "kbc_env",
   "language": "python",
   "name": "python3"
  },
  "language_info": {
   "codemirror_mode": {
    "name": "ipython",
    "version": 3
   },
   "file_extension": ".py",
   "mimetype": "text/x-python",
   "name": "python",
   "nbconvert_exporter": "python",
   "pygments_lexer": "ipython3",
   "version": "3.11.6"
  }
 },
 "nbformat": 4,
 "nbformat_minor": 2
}
