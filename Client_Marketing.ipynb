{
 "cells": [
  {
   "cell_type": "code",
   "execution_count": 1,
   "metadata": {},
   "outputs": [],
   "source": [
    "import pandas as pd\n",
    "import numpy as np\n",
    "import matplotlib.pyplot as plt\n",
    "import seaborn as sns\n",
    "import os\n",
    "import warnings\n",
    "import pickle"
   ]
  },
  {
   "cell_type": "markdown",
   "metadata": {},
   "source": [
    "#### Top 100 Clients for Marketing Outreach"
   ]
  },
  {
   "cell_type": "code",
   "execution_count": 2,
   "metadata": {},
   "outputs": [],
   "source": [
    "with open('Pickle_Files/Revenue_MF.pkl', 'rb') as f5:\n",
    "     mutual_fund= pickle.load(f5)\n",
    "with open('Pickle_Files/Revenue_CC.pkl', 'rb') as f6:\n",
    "     credit_card= pickle.load(f6)\n",
    "with open('Pickle_Files/Revenue_CL.pkl', 'rb') as f7:\n",
    "     consumer_loan= pickle.load(f7)"
   ]
  },
  {
   "cell_type": "code",
   "execution_count": 3,
   "metadata": {},
   "outputs": [
    {
     "data": {
      "text/plain": [
       "Product\n",
       "CL    51\n",
       "CC    49\n",
       "Name: count, dtype: int64"
      ]
     },
     "metadata": {},
     "output_type": "display_data"
    },
    {
     "data": {
      "text/html": [
       "<div>\n",
       "<style scoped>\n",
       "    .dataframe tbody tr th:only-of-type {\n",
       "        vertical-align: middle;\n",
       "    }\n",
       "\n",
       "    .dataframe tbody tr th {\n",
       "        vertical-align: top;\n",
       "    }\n",
       "\n",
       "    .dataframe thead th {\n",
       "        text-align: right;\n",
       "    }\n",
       "</style>\n",
       "<table border=\"1\" class=\"dataframe\">\n",
       "  <thead>\n",
       "    <tr style=\"text-align: right;\">\n",
       "      <th></th>\n",
       "      <th>Client</th>\n",
       "      <th>Revenue_MF</th>\n",
       "      <th>Product</th>\n",
       "      <th>Revenue</th>\n",
       "    </tr>\n",
       "  </thead>\n",
       "  <tbody>\n",
       "    <tr>\n",
       "      <th>171</th>\n",
       "      <td>1460</td>\n",
       "      <td>NaN</td>\n",
       "      <td>CC</td>\n",
       "      <td>147.459793</td>\n",
       "    </tr>\n",
       "    <tr>\n",
       "      <th>548</th>\n",
       "      <td>1071</td>\n",
       "      <td>NaN</td>\n",
       "      <td>CC</td>\n",
       "      <td>128.569793</td>\n",
       "    </tr>\n",
       "    <tr>\n",
       "      <th>90</th>\n",
       "      <td>84</td>\n",
       "      <td>NaN</td>\n",
       "      <td>CC</td>\n",
       "      <td>121.840761</td>\n",
       "    </tr>\n",
       "    <tr>\n",
       "      <th>452</th>\n",
       "      <td>1162</td>\n",
       "      <td>NaN</td>\n",
       "      <td>CC</td>\n",
       "      <td>95.286093</td>\n",
       "    </tr>\n",
       "    <tr>\n",
       "      <th>459</th>\n",
       "      <td>1389</td>\n",
       "      <td>NaN</td>\n",
       "      <td>CC</td>\n",
       "      <td>95.090350</td>\n",
       "    </tr>\n",
       "    <tr>\n",
       "      <th>...</th>\n",
       "      <td>...</td>\n",
       "      <td>...</td>\n",
       "      <td>...</td>\n",
       "      <td>...</td>\n",
       "    </tr>\n",
       "    <tr>\n",
       "      <th>256</th>\n",
       "      <td>1544</td>\n",
       "      <td>NaN</td>\n",
       "      <td>CL</td>\n",
       "      <td>8.519304</td>\n",
       "    </tr>\n",
       "    <tr>\n",
       "      <th>162</th>\n",
       "      <td>1096</td>\n",
       "      <td>NaN</td>\n",
       "      <td>CL</td>\n",
       "      <td>8.497968</td>\n",
       "    </tr>\n",
       "    <tr>\n",
       "      <th>514</th>\n",
       "      <td>57</td>\n",
       "      <td>NaN</td>\n",
       "      <td>CC</td>\n",
       "      <td>8.490932</td>\n",
       "    </tr>\n",
       "    <tr>\n",
       "      <th>412</th>\n",
       "      <td>1586</td>\n",
       "      <td>NaN</td>\n",
       "      <td>CL</td>\n",
       "      <td>8.400464</td>\n",
       "    </tr>\n",
       "    <tr>\n",
       "      <th>178</th>\n",
       "      <td>706</td>\n",
       "      <td>NaN</td>\n",
       "      <td>CL</td>\n",
       "      <td>8.367107</td>\n",
       "    </tr>\n",
       "  </tbody>\n",
       "</table>\n",
       "<p>100 rows × 4 columns</p>\n",
       "</div>"
      ],
      "text/plain": [
       "     Client  Revenue_MF Product     Revenue\n",
       "171    1460         NaN      CC  147.459793\n",
       "548    1071         NaN      CC  128.569793\n",
       "90       84         NaN      CC  121.840761\n",
       "452    1162         NaN      CC   95.286093\n",
       "459    1389         NaN      CC   95.090350\n",
       "..      ...         ...     ...         ...\n",
       "256    1544         NaN      CL    8.519304\n",
       "162    1096         NaN      CL    8.497968\n",
       "514      57         NaN      CC    8.490932\n",
       "412    1586         NaN      CL    8.400464\n",
       "178     706         NaN      CL    8.367107\n",
       "\n",
       "[100 rows x 4 columns]"
      ]
     },
     "execution_count": 3,
     "metadata": {},
     "output_type": "execute_result"
    }
   ],
   "source": [
    "# Extract top 100 clients and their respective product\n",
    "marketing_clients = pd.concat([mutual_fund, credit_card, consumer_loan])\n",
    "\n",
    "marketing_clients.sort_values(by=['Revenue'], ascending=False,inplace=True)\n",
    "\n",
    "marketing_clients.drop_duplicates(subset='Client', keep='first',inplace=True)\n",
    "\n",
    "top_100_revenues = marketing_clients.head(100)\n",
    "\n",
    "display(top_100_revenues['Product'].value_counts())\n",
    "top_100_revenues"
   ]
  },
  {
   "cell_type": "code",
   "execution_count": 4,
   "metadata": {},
   "outputs": [
    {
     "data": {
      "image/png": "[encoded data removed]",
      "text/plain": [
       "<Figure size 400x400 with 1 Axes>"
      ]
     },
     "metadata": {},
     "output_type": "display_data"
    }
   ],
   "source": [
    "\n",
    "warnings.filterwarnings(\"ignore\")\n",
    "fig, ax1 = plt.subplots(nrows=1, ncols=1, figsize=(4, 4))\n",
    "\n",
    "sns.countplot(x='Product', data=top_100_revenues, palette=[\"black\", \"orange\", \"red\"], ax=ax1)\n",
    "ax1.set_xlabel('Product Type')\n",
    "ax1.set_ylabel('Count')\n",
    "ax1.set_title('Product Type in Top 100 Revenues')\n",
    "\n",
    "plt.show()"
   ]
  },
  {
   "cell_type": "code",
   "execution_count": 5,
   "metadata": {},
   "outputs": [
    {
     "name": "stdout",
     "output_type": "stream",
     "text": [
      "Potential revenue to be generated: 2475 EUR\n"
     ]
    }
   ],
   "source": [
    "# Potential Revenue Generated\n",
    "\n",
    "print(f'Potential revenue to be generated: { int(top_100_revenues[\"Revenue\"].sum())} EUR')"
   ]
  },
  {
   "cell_type": "code",
   "execution_count": 6,
   "metadata": {},
   "outputs": [],
   "source": [
    "output_folder_path = 'Excel_files'\n",
    "\n",
    "# Generating a new excel file with the corresponding excel folder\n",
    "output_excel_path = os.path.join(output_folder_path, 'Client_Revenue.xlsx')\n",
    "\n",
    "top_100_revenues.to_excel(output_excel_path, index=False)"
   ]
  }
 ],
 "metadata": {
  "kernelspec": {
   "display_name": "kbc_env",
   "language": "python",
   "name": "python3"
  },
  "language_info": {
   "codemirror_mode": {
    "name": "ipython",
    "version": 3
   },
   "file_extension": ".py",
   "mimetype": "text/x-python",
   "name": "python",
   "nbconvert_exporter": "python",
   "pygments_lexer": "ipython3",
   "version": "3.11.6"
  }
 },
 "nbformat": 4,
 "nbformat_minor": 2
}
