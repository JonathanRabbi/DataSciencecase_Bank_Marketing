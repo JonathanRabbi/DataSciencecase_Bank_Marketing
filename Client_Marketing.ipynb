{
 "cells": [
  {
   "cell_type": "code",
   "execution_count": 1,
   "metadata": {},
   "outputs": [],
   "source": [
    "import pandas as pd\n",
    "import numpy as np\n",
    "import matplotlib.pyplot as plt\n",
    "import seaborn as sns\n",
    "import os\n",
    "import warnings\n",
    "import pickle"
   ]
  },
  {
   "cell_type": "markdown",
   "metadata": {},
   "source": [
    "#### Top 100 Clients for Marketing Outreach"
   ]
  },
  {
   "cell_type": "code",
   "execution_count": 2,
   "metadata": {},
   "outputs": [],
   "source": [
    "with open('Pickle_Files/Revenue_MF.pkl', 'rb') as f5:\n",
    "     mutual_fund= pickle.load(f5)\n",
    "with open('Pickle_Files/Revenue_CC.pkl', 'rb') as f6:\n",
    "     credit_card= pickle.load(f6)\n",
    "with open('Pickle_Files/Revenue_CL.pkl', 'rb') as f7:\n",
    "     consumer_loan= pickle.load(f7)"
   ]
  },
  {
   "cell_type": "code",
   "execution_count": 3,
   "metadata": {},
   "outputs": [
    {
     "data": {
      "text/plain": [
       "Product\n",
       "CC    40\n",
       "MF    33\n",
       "CL    27\n",
       "Name: count, dtype: int64"
      ]
     },
     "metadata": {},
     "output_type": "display_data"
    },
    {
     "data": {
      "text/html": [
       "<div>\n",
       "<style scoped>\n",
       "    .dataframe tbody tr th:only-of-type {\n",
       "        vertical-align: middle;\n",
       "    }\n",
       "\n",
       "    .dataframe tbody tr th {\n",
       "        vertical-align: top;\n",
       "    }\n",
       "\n",
       "    .dataframe thead th {\n",
       "        text-align: right;\n",
       "    }\n",
       "</style>\n",
       "<table border=\"1\" class=\"dataframe\">\n",
       "  <thead>\n",
       "    <tr style=\"text-align: right;\">\n",
       "      <th></th>\n",
       "      <th>Client</th>\n",
       "      <th>Revenue</th>\n",
       "      <th>Product</th>\n",
       "    </tr>\n",
       "  </thead>\n",
       "  <tbody>\n",
       "    <tr>\n",
       "      <th>171</th>\n",
       "      <td>1460</td>\n",
       "      <td>135.249304</td>\n",
       "      <td>CC</td>\n",
       "    </tr>\n",
       "    <tr>\n",
       "      <th>90</th>\n",
       "      <td>84</td>\n",
       "      <td>132.694311</td>\n",
       "      <td>CC</td>\n",
       "    </tr>\n",
       "    <tr>\n",
       "      <th>528</th>\n",
       "      <td>1073</td>\n",
       "      <td>92.207332</td>\n",
       "      <td>CC</td>\n",
       "    </tr>\n",
       "    <tr>\n",
       "      <th>548</th>\n",
       "      <td>1071</td>\n",
       "      <td>83.203354</td>\n",
       "      <td>CC</td>\n",
       "    </tr>\n",
       "    <tr>\n",
       "      <th>581</th>\n",
       "      <td>383</td>\n",
       "      <td>82.530468</td>\n",
       "      <td>CC</td>\n",
       "    </tr>\n",
       "    <tr>\n",
       "      <th>...</th>\n",
       "      <td>...</td>\n",
       "      <td>...</td>\n",
       "      <td>...</td>\n",
       "    </tr>\n",
       "    <tr>\n",
       "      <th>426</th>\n",
       "      <td>490</td>\n",
       "      <td>10.442071</td>\n",
       "      <td>CL</td>\n",
       "    </tr>\n",
       "    <tr>\n",
       "      <th>535</th>\n",
       "      <td>1546</td>\n",
       "      <td>10.424823</td>\n",
       "      <td>MF</td>\n",
       "    </tr>\n",
       "    <tr>\n",
       "      <th>467</th>\n",
       "      <td>562</td>\n",
       "      <td>10.364586</td>\n",
       "      <td>CL</td>\n",
       "    </tr>\n",
       "    <tr>\n",
       "      <th>149</th>\n",
       "      <td>200</td>\n",
       "      <td>10.313264</td>\n",
       "      <td>CL</td>\n",
       "    </tr>\n",
       "    <tr>\n",
       "      <th>140</th>\n",
       "      <td>485</td>\n",
       "      <td>9.865693</td>\n",
       "      <td>CL</td>\n",
       "    </tr>\n",
       "  </tbody>\n",
       "</table>\n",
       "<p>100 rows × 3 columns</p>\n",
       "</div>"
      ],
      "text/plain": [
       "     Client     Revenue Product\n",
       "171    1460  135.249304      CC\n",
       "90       84  132.694311      CC\n",
       "528    1073   92.207332      CC\n",
       "548    1071   83.203354      CC\n",
       "581     383   82.530468      CC\n",
       "..      ...         ...     ...\n",
       "426     490   10.442071      CL\n",
       "535    1546   10.424823      MF\n",
       "467     562   10.364586      CL\n",
       "149     200   10.313264      CL\n",
       "140     485    9.865693      CL\n",
       "\n",
       "[100 rows x 3 columns]"
      ]
     },
     "execution_count": 3,
     "metadata": {},
     "output_type": "execute_result"
    }
   ],
   "source": [
    "# Extract top 100 clients and their respective product\n",
    "marketing_clients = pd.concat([mutual_fund, credit_card, consumer_loan])\n",
    "\n",
    "marketing_clients.sort_values(by=['Revenue'], ascending=False,inplace=True)\n",
    "\n",
    "marketing_clients.drop_duplicates(subset='Client', keep='first',inplace=True)\n",
    "\n",
    "top_100_revenues = marketing_clients.head(100)\n",
    "\n",
    "display(top_100_revenues['Product'].value_counts())\n",
    "top_100_revenues"
   ]
  },
  {
   "cell_type": "code",
   "execution_count": 4,
   "metadata": {},
   "outputs": [
    {
     "name": "stderr",
     "output_type": "stream",
     "text": [
      "/var/folders/7l/r35q9hbd4l91fmdwhb2xlmj40000gn/T/ipykernel_12691/1292284919.py:3: FutureWarning: \n",
      "\n",
      "Passing `palette` without assigning `hue` is deprecated and will be removed in v0.14.0. Assign the `x` variable to `hue` and set `legend=False` for the same effect.\n",
      "\n",
      "  sns.countplot(x='Product', data=top_100_revenues, palette=[\"black\", \"orange\", \"red\"], ax=ax1)\n"
     ]
    },
    {
     "data": {
      "image/png": "[encoded data removed]",
      "text/plain": [
       "<Figure size 400x400 with 1 Axes>"
      ]
     },
     "metadata": {},
     "output_type": "display_data"
    }
   ],
   "source": [
    "fig, ax1 = plt.subplots(nrows=1, ncols=1, figsize=(4, 4))\n",
    "\n",
    "sns.countplot(x='Product', data=top_100_revenues, palette=[\"black\", \"orange\", \"red\"], ax=ax1)\n",
    "ax1.set_xlabel('Product Type')\n",
    "ax1.set_ylabel('Count')\n",
    "ax1.set_title('Product Type in Top 100 Revenues')\n",
    "\n",
    "plt.show()"
   ]
  },
  {
   "cell_type": "code",
   "execution_count": 5,
   "metadata": {},
   "outputs": [
    {
     "name": "stdout",
     "output_type": "stream",
     "text": [
      "Potential revenue to be generated: 2454 EUR\n"
     ]
    }
   ],
   "source": [
    "# Potential Revenue Generated\n",
    "\n",
    "print(f'Potential revenue to be generated: { int(top_100_revenues[\"Revenue\"].sum())} EUR')"
   ]
  }
 ],
 "metadata": {
  "kernelspec": {
   "display_name": "kbc_env",
   "language": "python",
   "name": "python3"
  },
  "language_info": {
   "codemirror_mode": {
    "name": "ipython",
    "version": 3
   },
   "file_extension": ".py",
   "mimetype": "text/x-python",
   "name": "python",
   "nbconvert_exporter": "python",
   "pygments_lexer": "ipython3",
   "version": "3.11.6"
  }
 },
 "nbformat": 4,
 "nbformat_minor": 2
}
