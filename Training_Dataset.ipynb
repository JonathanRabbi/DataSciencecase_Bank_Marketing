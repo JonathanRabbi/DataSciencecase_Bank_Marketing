{
 "cells": [
  {
   "cell_type": "markdown",
   "metadata": {},
   "source": [
    "### Machine Learning Exercise"
   ]
  },
  {
   "cell_type": "markdown",
   "metadata": {},
   "source": [
    "#### Merge Datasets"
   ]
  },
  {
   "cell_type": "code",
   "execution_count": 1,
   "metadata": {},
   "outputs": [
    {
     "data": {
      "text/plain": [
       "(1615, 36)"
      ]
     },
     "metadata": {},
     "output_type": "display_data"
    },
    {
     "data": {
      "text/html": [
       "<div>\n",
       "<style scoped>\n",
       "    .dataframe tbody tr th:only-of-type {\n",
       "        vertical-align: middle;\n",
       "    }\n",
       "\n",
       "    .dataframe tbody tr th {\n",
       "        vertical-align: top;\n",
       "    }\n",
       "\n",
       "    .dataframe thead th {\n",
       "        text-align: right;\n",
       "    }\n",
       "</style>\n",
       "<table border=\"1\" class=\"dataframe\">\n",
       "  <thead>\n",
       "    <tr style=\"text-align: right;\">\n",
       "      <th></th>\n",
       "      <th>Client</th>\n",
       "      <th>Sex</th>\n",
       "      <th>Age</th>\n",
       "      <th>Tenure</th>\n",
       "      <th>Count_CA</th>\n",
       "      <th>Count_SA</th>\n",
       "      <th>Count_MF</th>\n",
       "      <th>Count_OVD</th>\n",
       "      <th>Count_CC</th>\n",
       "      <th>Count_CL</th>\n",
       "      <th>...</th>\n",
       "      <th>TransactionsDeb_CA</th>\n",
       "      <th>TransactionsDebCash_Card</th>\n",
       "      <th>TransactionsDebCashless_Card</th>\n",
       "      <th>TransactionsDeb_PaymentOrder</th>\n",
       "      <th>Sale_MF</th>\n",
       "      <th>Sale_CC</th>\n",
       "      <th>Sale_CL</th>\n",
       "      <th>Revenue_MF</th>\n",
       "      <th>Revenue_CC</th>\n",
       "      <th>Revenue_CL</th>\n",
       "    </tr>\n",
       "  </thead>\n",
       "  <tbody>\n",
       "    <tr>\n",
       "      <th>0</th>\n",
       "      <td>909</td>\n",
       "      <td>M</td>\n",
       "      <td>21</td>\n",
       "      <td>27</td>\n",
       "      <td>1</td>\n",
       "      <td>NaN</td>\n",
       "      <td>NaN</td>\n",
       "      <td>1.0</td>\n",
       "      <td>NaN</td>\n",
       "      <td>1.0</td>\n",
       "      <td>...</td>\n",
       "      <td>7.0</td>\n",
       "      <td>1.0</td>\n",
       "      <td>0.0</td>\n",
       "      <td>4.0</td>\n",
       "      <td>NaN</td>\n",
       "      <td>NaN</td>\n",
       "      <td>NaN</td>\n",
       "      <td>NaN</td>\n",
       "      <td>NaN</td>\n",
       "      <td>NaN</td>\n",
       "    </tr>\n",
       "    <tr>\n",
       "      <th>1</th>\n",
       "      <td>1217</td>\n",
       "      <td>M</td>\n",
       "      <td>38</td>\n",
       "      <td>165</td>\n",
       "      <td>1</td>\n",
       "      <td>NaN</td>\n",
       "      <td>NaN</td>\n",
       "      <td>NaN</td>\n",
       "      <td>NaN</td>\n",
       "      <td>NaN</td>\n",
       "      <td>...</td>\n",
       "      <td>1.0</td>\n",
       "      <td>0.0</td>\n",
       "      <td>0.0</td>\n",
       "      <td>1.0</td>\n",
       "      <td>0.0</td>\n",
       "      <td>0.0</td>\n",
       "      <td>0.0</td>\n",
       "      <td>0.000000</td>\n",
       "      <td>0.000000</td>\n",
       "      <td>0.0</td>\n",
       "    </tr>\n",
       "    <tr>\n",
       "      <th>2</th>\n",
       "      <td>850</td>\n",
       "      <td>F</td>\n",
       "      <td>49</td>\n",
       "      <td>44</td>\n",
       "      <td>1</td>\n",
       "      <td>NaN</td>\n",
       "      <td>NaN</td>\n",
       "      <td>NaN</td>\n",
       "      <td>NaN</td>\n",
       "      <td>NaN</td>\n",
       "      <td>...</td>\n",
       "      <td>6.0</td>\n",
       "      <td>0.0</td>\n",
       "      <td>0.0</td>\n",
       "      <td>1.0</td>\n",
       "      <td>0.0</td>\n",
       "      <td>1.0</td>\n",
       "      <td>0.0</td>\n",
       "      <td>0.000000</td>\n",
       "      <td>0.893929</td>\n",
       "      <td>0.0</td>\n",
       "    </tr>\n",
       "    <tr>\n",
       "      <th>3</th>\n",
       "      <td>1473</td>\n",
       "      <td>M</td>\n",
       "      <td>54</td>\n",
       "      <td>34</td>\n",
       "      <td>1</td>\n",
       "      <td>1.0</td>\n",
       "      <td>NaN</td>\n",
       "      <td>NaN</td>\n",
       "      <td>1.0</td>\n",
       "      <td>1.0</td>\n",
       "      <td>...</td>\n",
       "      <td>38.0</td>\n",
       "      <td>1.0</td>\n",
       "      <td>26.0</td>\n",
       "      <td>11.0</td>\n",
       "      <td>1.0</td>\n",
       "      <td>0.0</td>\n",
       "      <td>0.0</td>\n",
       "      <td>4.929643</td>\n",
       "      <td>0.000000</td>\n",
       "      <td>0.0</td>\n",
       "    </tr>\n",
       "    <tr>\n",
       "      <th>4</th>\n",
       "      <td>1038</td>\n",
       "      <td>M</td>\n",
       "      <td>29</td>\n",
       "      <td>106</td>\n",
       "      <td>1</td>\n",
       "      <td>NaN</td>\n",
       "      <td>NaN</td>\n",
       "      <td>NaN</td>\n",
       "      <td>NaN</td>\n",
       "      <td>NaN</td>\n",
       "      <td>...</td>\n",
       "      <td>0.0</td>\n",
       "      <td>0.0</td>\n",
       "      <td>0.0</td>\n",
       "      <td>0.0</td>\n",
       "      <td>0.0</td>\n",
       "      <td>0.0</td>\n",
       "      <td>0.0</td>\n",
       "      <td>0.000000</td>\n",
       "      <td>0.000000</td>\n",
       "      <td>0.0</td>\n",
       "    </tr>\n",
       "  </tbody>\n",
       "</table>\n",
       "<p>5 rows × 36 columns</p>\n",
       "</div>"
      ],
      "text/plain": [
       "   Client Sex  Age  Tenure  Count_CA  Count_SA  Count_MF  Count_OVD  Count_CC  \\\n",
       "0     909   M   21      27         1       NaN       NaN        1.0       NaN   \n",
       "1    1217   M   38     165         1       NaN       NaN        NaN       NaN   \n",
       "2     850   F   49      44         1       NaN       NaN        NaN       NaN   \n",
       "3    1473   M   54      34         1       1.0       NaN        NaN       1.0   \n",
       "4    1038   M   29     106         1       NaN       NaN        NaN       NaN   \n",
       "\n",
       "   Count_CL  ...  TransactionsDeb_CA  TransactionsDebCash_Card  \\\n",
       "0       1.0  ...                 7.0                       1.0   \n",
       "1       NaN  ...                 1.0                       0.0   \n",
       "2       NaN  ...                 6.0                       0.0   \n",
       "3       1.0  ...                38.0                       1.0   \n",
       "4       NaN  ...                 0.0                       0.0   \n",
       "\n",
       "   TransactionsDebCashless_Card  TransactionsDeb_PaymentOrder  Sale_MF  \\\n",
       "0                           0.0                           4.0      NaN   \n",
       "1                           0.0                           1.0      0.0   \n",
       "2                           0.0                           1.0      0.0   \n",
       "3                          26.0                          11.0      1.0   \n",
       "4                           0.0                           0.0      0.0   \n",
       "\n",
       "   Sale_CC  Sale_CL  Revenue_MF  Revenue_CC  Revenue_CL  \n",
       "0      NaN      NaN         NaN         NaN         NaN  \n",
       "1      0.0      0.0    0.000000    0.000000         0.0  \n",
       "2      1.0      0.0    0.000000    0.893929         0.0  \n",
       "3      0.0      0.0    4.929643    0.000000         0.0  \n",
       "4      0.0      0.0    0.000000    0.000000         0.0  \n",
       "\n",
       "[5 rows x 36 columns]"
      ]
     },
     "metadata": {},
     "output_type": "display_data"
    }
   ],
   "source": [
    "import pandas as pd\n",
    "import numpy as np\n",
    "import matplotlib.pyplot as plt\n",
    "import seaborn as sns\n",
    "import os\n",
    "import warnings\n",
    "import pickle\n",
    "\n",
    "# File path\n",
    "excel_file_path = 'Excel_files/Task_Data_Scientist_Dataset.xlsx'\n",
    "\n",
    "# Make excel sheets into dataframes\n",
    "df_sheet2 = pd.read_excel(excel_file_path, sheet_name='Soc_Dem')\n",
    "df_sheet3 = pd.read_excel(excel_file_path, sheet_name='Products_ActBalance')\n",
    "df_sheet4 = pd.read_excel(excel_file_path, sheet_name='Inflow_Outflow')\n",
    "df_sheet5 = pd.read_excel(excel_file_path, sheet_name='Sales_Revenues')\n",
    "\n",
    "# Merging the Dataframes based on the column 'Client'\n",
    "df = pd.merge(df_sheet2, df_sheet3, on='Client', how='outer')\n",
    "df= pd.merge(df, df_sheet4, on='Client', how='outer')\n",
    "\n",
    "# Distinguish the full merged dataset and the individual one accounting for 60% of the training set\n",
    "df_merge = pd.merge(df, df_sheet5, on='Client', how='outer')\n",
    "\n",
    "display(df_merge.shape)\n",
    "display(df_merge.head())"
   ]
  },
  {
   "cell_type": "markdown",
   "metadata": {},
   "source": [
    "#### Exploratory Data Analysis"
   ]
  },
  {
   "cell_type": "markdown",
   "metadata": {},
   "source": [
    "##### Dataset Cleaning"
   ]
  },
  {
   "cell_type": "code",
   "execution_count": 2,
   "metadata": {},
   "outputs": [
    {
     "name": "stdout",
     "output_type": "stream",
     "text": [
      "Total number of duplicate rows: 0\n"
     ]
    }
   ],
   "source": [
    "# Verify duplicate rows\n",
    "duplicate_rows = df_merge.duplicated().sum()\n",
    "print('Total number of duplicate rows:',duplicate_rows)"
   ]
  },
  {
   "cell_type": "code",
   "execution_count": 3,
   "metadata": {},
   "outputs": [],
   "source": [
    "# Replace missing values with 0\n",
    "df_merge = df_merge.replace(np.nan,0)"
   ]
  },
  {
   "cell_type": "code",
   "execution_count": 4,
   "metadata": {},
   "outputs": [],
   "source": [
    "# Create dummy variables for Sex\n",
    "df_merge['Sex'] = df_merge['Sex'].replace({'M': 1, 'F': 0}).astype(int)\n"
   ]
  },
  {
   "cell_type": "code",
   "execution_count": 5,
   "metadata": {},
   "outputs": [
    {
     "name": "stdout",
     "output_type": "stream",
     "text": [
      "<class 'pandas.core.frame.DataFrame'>\n",
      "RangeIndex: 1615 entries, 0 to 1614\n",
      "Data columns (total 36 columns):\n",
      " #   Column                        Non-Null Count  Dtype  \n",
      "---  ------                        --------------  -----  \n",
      " 0   Client                        1615 non-null   int64  \n",
      " 1   Sex                           1615 non-null   int64  \n",
      " 2   Age                           1615 non-null   int64  \n",
      " 3   Tenure                        1615 non-null   int64  \n",
      " 4   Count_CA                      1615 non-null   int64  \n",
      " 5   Count_SA                      1615 non-null   float64\n",
      " 6   Count_MF                      1615 non-null   float64\n",
      " 7   Count_OVD                     1615 non-null   float64\n",
      " 8   Count_CC                      1615 non-null   float64\n",
      " 9   Count_CL                      1615 non-null   float64\n",
      " 10  ActBal_CA                     1615 non-null   float64\n",
      " 11  ActBal_SA                     1615 non-null   float64\n",
      " 12  ActBal_MF                     1615 non-null   float64\n",
      " 13  ActBal_OVD                    1615 non-null   float64\n",
      " 14  ActBal_CC                     1615 non-null   float64\n",
      " 15  ActBal_CL                     1615 non-null   float64\n",
      " 16  VolumeCred                    1615 non-null   float64\n",
      " 17  VolumeCred_CA                 1615 non-null   float64\n",
      " 18  TransactionsCred              1615 non-null   float64\n",
      " 19  TransactionsCred_CA           1615 non-null   float64\n",
      " 20  VolumeDeb                     1615 non-null   float64\n",
      " 21  VolumeDeb_CA                  1615 non-null   float64\n",
      " 22  VolumeDebCash_Card            1615 non-null   float64\n",
      " 23  VolumeDebCashless_Card        1615 non-null   float64\n",
      " 24  VolumeDeb_PaymentOrder        1615 non-null   float64\n",
      " 25  TransactionsDeb               1615 non-null   float64\n",
      " 26  TransactionsDeb_CA            1615 non-null   float64\n",
      " 27  TransactionsDebCash_Card      1615 non-null   float64\n",
      " 28  TransactionsDebCashless_Card  1615 non-null   float64\n",
      " 29  TransactionsDeb_PaymentOrder  1615 non-null   float64\n",
      " 30  Sale_MF                       1615 non-null   float64\n",
      " 31  Sale_CC                       1615 non-null   float64\n",
      " 32  Sale_CL                       1615 non-null   float64\n",
      " 33  Revenue_MF                    1615 non-null   float64\n",
      " 34  Revenue_CC                    1615 non-null   float64\n",
      " 35  Revenue_CL                    1615 non-null   float64\n",
      "dtypes: float64(31), int64(5)\n",
      "memory usage: 454.3 KB\n"
     ]
    }
   ],
   "source": [
    "df_merge[df_merge.columns].info()"
   ]
  },
  {
   "cell_type": "code",
   "execution_count": 6,
   "metadata": {},
   "outputs": [
    {
     "data": {
      "text/html": [
       "<div>\n",
       "<style scoped>\n",
       "    .dataframe tbody tr th:only-of-type {\n",
       "        vertical-align: middle;\n",
       "    }\n",
       "\n",
       "    .dataframe tbody tr th {\n",
       "        vertical-align: top;\n",
       "    }\n",
       "\n",
       "    .dataframe thead th {\n",
       "        text-align: right;\n",
       "    }\n",
       "</style>\n",
       "<table border=\"1\" class=\"dataframe\">\n",
       "  <thead>\n",
       "    <tr style=\"text-align: right;\">\n",
       "      <th></th>\n",
       "      <th>Missing_Percentage</th>\n",
       "    </tr>\n",
       "  </thead>\n",
       "  <tbody>\n",
       "    <tr>\n",
       "      <th>Client</th>\n",
       "      <td>0.0</td>\n",
       "    </tr>\n",
       "    <tr>\n",
       "      <th>Sex</th>\n",
       "      <td>0.0</td>\n",
       "    </tr>\n",
       "    <tr>\n",
       "      <th>VolumeDeb</th>\n",
       "      <td>0.0</td>\n",
       "    </tr>\n",
       "    <tr>\n",
       "      <th>VolumeDeb_CA</th>\n",
       "      <td>0.0</td>\n",
       "    </tr>\n",
       "    <tr>\n",
       "      <th>VolumeDebCash_Card</th>\n",
       "      <td>0.0</td>\n",
       "    </tr>\n",
       "    <tr>\n",
       "      <th>VolumeDebCashless_Card</th>\n",
       "      <td>0.0</td>\n",
       "    </tr>\n",
       "    <tr>\n",
       "      <th>VolumeDeb_PaymentOrder</th>\n",
       "      <td>0.0</td>\n",
       "    </tr>\n",
       "    <tr>\n",
       "      <th>TransactionsDeb</th>\n",
       "      <td>0.0</td>\n",
       "    </tr>\n",
       "    <tr>\n",
       "      <th>TransactionsDeb_CA</th>\n",
       "      <td>0.0</td>\n",
       "    </tr>\n",
       "    <tr>\n",
       "      <th>TransactionsDebCash_Card</th>\n",
       "      <td>0.0</td>\n",
       "    </tr>\n",
       "    <tr>\n",
       "      <th>TransactionsDebCashless_Card</th>\n",
       "      <td>0.0</td>\n",
       "    </tr>\n",
       "    <tr>\n",
       "      <th>TransactionsDeb_PaymentOrder</th>\n",
       "      <td>0.0</td>\n",
       "    </tr>\n",
       "    <tr>\n",
       "      <th>Sale_MF</th>\n",
       "      <td>0.0</td>\n",
       "    </tr>\n",
       "    <tr>\n",
       "      <th>Sale_CC</th>\n",
       "      <td>0.0</td>\n",
       "    </tr>\n",
       "    <tr>\n",
       "      <th>Sale_CL</th>\n",
       "      <td>0.0</td>\n",
       "    </tr>\n",
       "    <tr>\n",
       "      <th>Revenue_MF</th>\n",
       "      <td>0.0</td>\n",
       "    </tr>\n",
       "    <tr>\n",
       "      <th>Revenue_CC</th>\n",
       "      <td>0.0</td>\n",
       "    </tr>\n",
       "    <tr>\n",
       "      <th>TransactionsCred_CA</th>\n",
       "      <td>0.0</td>\n",
       "    </tr>\n",
       "    <tr>\n",
       "      <th>TransactionsCred</th>\n",
       "      <td>0.0</td>\n",
       "    </tr>\n",
       "    <tr>\n",
       "      <th>VolumeCred_CA</th>\n",
       "      <td>0.0</td>\n",
       "    </tr>\n",
       "    <tr>\n",
       "      <th>Count_CC</th>\n",
       "      <td>0.0</td>\n",
       "    </tr>\n",
       "    <tr>\n",
       "      <th>Age</th>\n",
       "      <td>0.0</td>\n",
       "    </tr>\n",
       "    <tr>\n",
       "      <th>Tenure</th>\n",
       "      <td>0.0</td>\n",
       "    </tr>\n",
       "    <tr>\n",
       "      <th>Count_CA</th>\n",
       "      <td>0.0</td>\n",
       "    </tr>\n",
       "    <tr>\n",
       "      <th>Count_SA</th>\n",
       "      <td>0.0</td>\n",
       "    </tr>\n",
       "    <tr>\n",
       "      <th>Count_MF</th>\n",
       "      <td>0.0</td>\n",
       "    </tr>\n",
       "    <tr>\n",
       "      <th>Count_OVD</th>\n",
       "      <td>0.0</td>\n",
       "    </tr>\n",
       "    <tr>\n",
       "      <th>Count_CL</th>\n",
       "      <td>0.0</td>\n",
       "    </tr>\n",
       "    <tr>\n",
       "      <th>VolumeCred</th>\n",
       "      <td>0.0</td>\n",
       "    </tr>\n",
       "    <tr>\n",
       "      <th>ActBal_CA</th>\n",
       "      <td>0.0</td>\n",
       "    </tr>\n",
       "    <tr>\n",
       "      <th>ActBal_SA</th>\n",
       "      <td>0.0</td>\n",
       "    </tr>\n",
       "    <tr>\n",
       "      <th>ActBal_MF</th>\n",
       "      <td>0.0</td>\n",
       "    </tr>\n",
       "    <tr>\n",
       "      <th>ActBal_OVD</th>\n",
       "      <td>0.0</td>\n",
       "    </tr>\n",
       "    <tr>\n",
       "      <th>ActBal_CC</th>\n",
       "      <td>0.0</td>\n",
       "    </tr>\n",
       "    <tr>\n",
       "      <th>ActBal_CL</th>\n",
       "      <td>0.0</td>\n",
       "    </tr>\n",
       "    <tr>\n",
       "      <th>Revenue_CL</th>\n",
       "      <td>0.0</td>\n",
       "    </tr>\n",
       "  </tbody>\n",
       "</table>\n",
       "</div>"
      ],
      "text/plain": [
       "                              Missing_Percentage\n",
       "Client                                       0.0\n",
       "Sex                                          0.0\n",
       "VolumeDeb                                    0.0\n",
       "VolumeDeb_CA                                 0.0\n",
       "VolumeDebCash_Card                           0.0\n",
       "VolumeDebCashless_Card                       0.0\n",
       "VolumeDeb_PaymentOrder                       0.0\n",
       "TransactionsDeb                              0.0\n",
       "TransactionsDeb_CA                           0.0\n",
       "TransactionsDebCash_Card                     0.0\n",
       "TransactionsDebCashless_Card                 0.0\n",
       "TransactionsDeb_PaymentOrder                 0.0\n",
       "Sale_MF                                      0.0\n",
       "Sale_CC                                      0.0\n",
       "Sale_CL                                      0.0\n",
       "Revenue_MF                                   0.0\n",
       "Revenue_CC                                   0.0\n",
       "TransactionsCred_CA                          0.0\n",
       "TransactionsCred                             0.0\n",
       "VolumeCred_CA                                0.0\n",
       "Count_CC                                     0.0\n",
       "Age                                          0.0\n",
       "Tenure                                       0.0\n",
       "Count_CA                                     0.0\n",
       "Count_SA                                     0.0\n",
       "Count_MF                                     0.0\n",
       "Count_OVD                                    0.0\n",
       "Count_CL                                     0.0\n",
       "VolumeCred                                   0.0\n",
       "ActBal_CA                                    0.0\n",
       "ActBal_SA                                    0.0\n",
       "ActBal_MF                                    0.0\n",
       "ActBal_OVD                                   0.0\n",
       "ActBal_CC                                    0.0\n",
       "ActBal_CL                                    0.0\n",
       "Revenue_CL                                   0.0"
      ]
     },
     "execution_count": 6,
     "metadata": {},
     "output_type": "execute_result"
    }
   ],
   "source": [
    "''' Missing Values '''\n",
    "\n",
    "percent_missing = round(df_merge.isnull().sum() * 100 / len(df),2)\n",
    "missing_value_df = pd.DataFrame({'Missing_Percentage': percent_missing})\n",
    "missing_value_df.sort_values(by=\"Missing_Percentage\",ascending=False)"
   ]
  },
  {
   "cell_type": "markdown",
   "metadata": {},
   "source": [
    "##### Visualisation"
   ]
  },
  {
   "cell_type": "code",
   "execution_count": 7,
   "metadata": {},
   "outputs": [
    {
     "data": {
      "image/png": "[encoded data removed]",
      "text/plain": [
       "<Figure size 400x400 with 1 Axes>"
      ]
     },
     "metadata": {},
     "output_type": "display_data"
    }
   ],
   "source": [
    "''' Age: Review the age distribution '''\n",
    "\n",
    "plt.figure(figsize=(4, 4))\n",
    "\n",
    "sns.histplot(df_merge['Age'], bins=15, edgecolor=\"b\", kde=True)\n",
    "\n",
    "plt.title('Age Distribution')\n",
    "plt.xlabel('Age')\n",
    "plt.ylabel('Amount')\n",
    "\n",
    "plt.show()\n"
   ]
  },
  {
   "cell_type": "markdown",
   "metadata": {},
   "source": [
    "There seem to be ages that are quite young for holding accounts at the bank. Hence, I can assume that these values are erroneous.\n",
    "Here, I will verify how many clients are younger than 10 years old (min. age account opening in Belgium). \n",
    "Moreover, I will verify whether there are irregularities of 'Tenure' being larger than the actual age of a client as well."
   ]
  },
  {
   "cell_type": "code",
   "execution_count": 8,
   "metadata": {},
   "outputs": [
    {
     "name": "stdout",
     "output_type": "stream",
     "text": [
      "Underage clients: 51\n"
     ]
    }
   ],
   "source": [
    "# Verify the rows where Age is less than 10 years old\n",
    "age_threshold = df_merge['Age'] < 10\n",
    "print(\"Underage clients:\", age_threshold.sum())"
   ]
  },
  {
   "cell_type": "code",
   "execution_count": 9,
   "metadata": {},
   "outputs": [
    {
     "data": {
      "image/png": "[encoded data removed]",
      "text/plain": [
       "<Figure size 400x400 with 1 Axes>"
      ]
     },
     "metadata": {},
     "output_type": "display_data"
    }
   ],
   "source": [
    "plt.figure(figsize=(4, 4))\n",
    "\n",
    "sns.histplot(df_merge['Tenure'], bins=20, edgecolor=\"b\", kde=True)\n",
    "\n",
    "plt.title('Tenure Distribution')\n",
    "plt.xlabel('Tenure')\n",
    "plt.ylabel('Amount')\n",
    "\n",
    "plt.show()"
   ]
  },
  {
   "cell_type": "code",
   "execution_count": 10,
   "metadata": {},
   "outputs": [
    {
     "name": "stdout",
     "output_type": "stream",
     "text": [
      "Number of Tenure anomalies: 47\n"
     ]
    }
   ],
   "source": [
    "''' Tenure: Verify when tenure in years is larger than Age '''\n",
    "\n",
    "anomaly_tenure = df_merge['Tenure']/12 > df_merge['Age']\n",
    "\n",
    "print(\"Number of Tenure anomalies:\", anomaly_tenure.sum())"
   ]
  },
  {
   "cell_type": "code",
   "execution_count": 11,
   "metadata": {},
   "outputs": [],
   "source": [
    "''' adjust the ages of the clients and tenure and put in dataset to excel'''\n",
    "\n",
    "# Create Merged excel file\n",
    "#current_directory = os.getcwd()\n",
    "output_folder_path = 'Excel_files'\n",
    "\n",
    "# Generating a new excel file with the corresponding excel folder\n",
    "output_excel_path = os.path.join(output_folder_path, 'Merged_dataset.xlsx')\n",
    "\n",
    "df_merge.to_excel(output_excel_path, index=False)"
   ]
  },
  {
   "cell_type": "code",
   "execution_count": 12,
   "metadata": {},
   "outputs": [
    {
     "data": {
      "image/png": "[encoded data removed]",
      "text/plain": [
       "<Figure size 400x400 with 1 Axes>"
      ]
     },
     "metadata": {},
     "output_type": "display_data"
    }
   ],
   "source": [
    "''' Gender: Review gender distribution'''\n",
    "\n",
    "warnings.filterwarnings(\"ignore\")\n",
    "\n",
    "df_merge['Sex'] = df_merge['Sex'].astype(str)\n",
    "\n",
    "plt.figure(figsize=(4, 4))\n",
    "sns.countplot(x='Sex', data=df_merge)\n",
    "\n",
    "plt.xlabel('Gender')\n",
    "plt.ylabel('Count')\n",
    "plt.title('Distribution of Male and Female')\n",
    "plt.show()\n",
    "\n"
   ]
  },
  {
   "cell_type": "code",
   "execution_count": 13,
   "metadata": {},
   "outputs": [
    {
     "data": {
      "image/png": "[encoded data removed]",
      "text/plain": [
       "<Figure size 1000x400 with 2 Axes>"
      ]
     },
     "metadata": {},
     "output_type": "display_data"
    }
   ],
   "source": [
    "''' Sales Revenue: Compare the sales revenue per product '''\n",
    "\n",
    "fig, (ax1, ax2) = plt.subplots(nrows=1, ncols=2, figsize=(10, 4))\n",
    "\n",
    "# Sales Revenue\n",
    "columns_revenue = np.arange(3)\n",
    "revenue = [df_merge['Revenue_CL'].sum(), df_merge['Revenue_CC'].sum(), df_merge['Revenue_MF'].sum()]\n",
    "\n",
    "ax1.bar(columns_revenue, revenue, align='center', color=[\"black\", \"orange\", \"red\"])\n",
    "ax1.set_xticks(columns_revenue)\n",
    "ax1.set_xticklabels(['Customer Loan', 'Credit Card', 'Mutual Fund'])\n",
    "ax1.set_ylabel('Revenue (EUR)')\n",
    "ax1.set_title('Sales Revenue')\n",
    "\n",
    "# Number of Sales per Product\n",
    "columns_sales = np.arange(3)\n",
    "sales = [df_merge['Sale_CL'].sum(), df_merge['Sale_CC'].sum(), df_merge['Sale_MF'].sum()]\n",
    "\n",
    "ax2.bar(columns_sales, sales, align='center', color=[\"black\", \"orange\", \"red\"])\n",
    "ax2.set_xticks(columns_sales)\n",
    "ax2.set_xticklabels(['Customer Loan', 'Credit Card', 'Mutual Fund'])\n",
    "ax2.set_ylabel('Count')\n",
    "ax2.set_title('Number of Sales per Product')\n",
    "\n",
    "plt.show()\n"
   ]
  },
  {
   "cell_type": "markdown",
   "metadata": {},
   "source": [
    "#### Training/Target Set Preparation"
   ]
  },
  {
   "cell_type": "markdown",
   "metadata": {},
   "source": [
    "##### Target Set"
   ]
  },
  {
   "cell_type": "code",
   "execution_count": 14,
   "metadata": {},
   "outputs": [
    {
     "data": {
      "text/plain": [
       "(646, 36)"
      ]
     },
     "execution_count": 14,
     "metadata": {},
     "output_type": "execute_result"
    }
   ],
   "source": [
    "client_focus = df_sheet5['Client']\n",
    "\n",
    "df_40 = df_merge[~df_merge['Client'].isin(client_focus)]\n",
    "\n",
    "df_40.shape"
   ]
  },
  {
   "cell_type": "code",
   "execution_count": 15,
   "metadata": {},
   "outputs": [],
   "source": [
    "df_40['Sex'] = df_40['Sex'].astype(int)"
   ]
  },
  {
   "cell_type": "markdown",
   "metadata": {},
   "source": [
    "#### Training Set"
   ]
  },
  {
   "cell_type": "code",
   "execution_count": 16,
   "metadata": {},
   "outputs": [
    {
     "data": {
      "text/plain": [
       "(969, 36)"
      ]
     },
     "metadata": {},
     "output_type": "display_data"
    },
    {
     "data": {
      "text/html": [
       "<div>\n",
       "<style scoped>\n",
       "    .dataframe tbody tr th:only-of-type {\n",
       "        vertical-align: middle;\n",
       "    }\n",
       "\n",
       "    .dataframe tbody tr th {\n",
       "        vertical-align: top;\n",
       "    }\n",
       "\n",
       "    .dataframe thead th {\n",
       "        text-align: right;\n",
       "    }\n",
       "</style>\n",
       "<table border=\"1\" class=\"dataframe\">\n",
       "  <thead>\n",
       "    <tr style=\"text-align: right;\">\n",
       "      <th></th>\n",
       "      <th>Client</th>\n",
       "      <th>Sex</th>\n",
       "      <th>Age</th>\n",
       "      <th>Tenure</th>\n",
       "      <th>Count_CA</th>\n",
       "      <th>Count_SA</th>\n",
       "      <th>Count_MF</th>\n",
       "      <th>Count_OVD</th>\n",
       "      <th>Count_CC</th>\n",
       "      <th>Count_CL</th>\n",
       "      <th>...</th>\n",
       "      <th>TransactionsDeb_CA</th>\n",
       "      <th>TransactionsDebCash_Card</th>\n",
       "      <th>TransactionsDebCashless_Card</th>\n",
       "      <th>TransactionsDeb_PaymentOrder</th>\n",
       "      <th>Sale_MF</th>\n",
       "      <th>Sale_CC</th>\n",
       "      <th>Sale_CL</th>\n",
       "      <th>Revenue_MF</th>\n",
       "      <th>Revenue_CC</th>\n",
       "      <th>Revenue_CL</th>\n",
       "    </tr>\n",
       "  </thead>\n",
       "  <tbody>\n",
       "    <tr>\n",
       "      <th>1</th>\n",
       "      <td>1217</td>\n",
       "      <td>1</td>\n",
       "      <td>38</td>\n",
       "      <td>165</td>\n",
       "      <td>1</td>\n",
       "      <td>0.0</td>\n",
       "      <td>0.0</td>\n",
       "      <td>0.0</td>\n",
       "      <td>0.0</td>\n",
       "      <td>0.0</td>\n",
       "      <td>...</td>\n",
       "      <td>1.0</td>\n",
       "      <td>0.0</td>\n",
       "      <td>0.0</td>\n",
       "      <td>1.0</td>\n",
       "      <td>0.0</td>\n",
       "      <td>0.0</td>\n",
       "      <td>0.0</td>\n",
       "      <td>0.000000</td>\n",
       "      <td>0.000000</td>\n",
       "      <td>0.000000</td>\n",
       "    </tr>\n",
       "    <tr>\n",
       "      <th>2</th>\n",
       "      <td>850</td>\n",
       "      <td>0</td>\n",
       "      <td>49</td>\n",
       "      <td>44</td>\n",
       "      <td>1</td>\n",
       "      <td>0.0</td>\n",
       "      <td>0.0</td>\n",
       "      <td>0.0</td>\n",
       "      <td>0.0</td>\n",
       "      <td>0.0</td>\n",
       "      <td>...</td>\n",
       "      <td>6.0</td>\n",
       "      <td>0.0</td>\n",
       "      <td>0.0</td>\n",
       "      <td>1.0</td>\n",
       "      <td>0.0</td>\n",
       "      <td>1.0</td>\n",
       "      <td>0.0</td>\n",
       "      <td>0.000000</td>\n",
       "      <td>0.893929</td>\n",
       "      <td>0.000000</td>\n",
       "    </tr>\n",
       "    <tr>\n",
       "      <th>3</th>\n",
       "      <td>1473</td>\n",
       "      <td>1</td>\n",
       "      <td>54</td>\n",
       "      <td>34</td>\n",
       "      <td>1</td>\n",
       "      <td>1.0</td>\n",
       "      <td>0.0</td>\n",
       "      <td>0.0</td>\n",
       "      <td>1.0</td>\n",
       "      <td>1.0</td>\n",
       "      <td>...</td>\n",
       "      <td>38.0</td>\n",
       "      <td>1.0</td>\n",
       "      <td>26.0</td>\n",
       "      <td>11.0</td>\n",
       "      <td>1.0</td>\n",
       "      <td>0.0</td>\n",
       "      <td>0.0</td>\n",
       "      <td>4.929643</td>\n",
       "      <td>0.000000</td>\n",
       "      <td>0.000000</td>\n",
       "    </tr>\n",
       "    <tr>\n",
       "      <th>4</th>\n",
       "      <td>1038</td>\n",
       "      <td>1</td>\n",
       "      <td>29</td>\n",
       "      <td>106</td>\n",
       "      <td>1</td>\n",
       "      <td>0.0</td>\n",
       "      <td>0.0</td>\n",
       "      <td>0.0</td>\n",
       "      <td>0.0</td>\n",
       "      <td>0.0</td>\n",
       "      <td>...</td>\n",
       "      <td>0.0</td>\n",
       "      <td>0.0</td>\n",
       "      <td>0.0</td>\n",
       "      <td>0.0</td>\n",
       "      <td>0.0</td>\n",
       "      <td>0.0</td>\n",
       "      <td>0.0</td>\n",
       "      <td>0.000000</td>\n",
       "      <td>0.000000</td>\n",
       "      <td>0.000000</td>\n",
       "    </tr>\n",
       "    <tr>\n",
       "      <th>5</th>\n",
       "      <td>225</td>\n",
       "      <td>1</td>\n",
       "      <td>14</td>\n",
       "      <td>187</td>\n",
       "      <td>1</td>\n",
       "      <td>0.0</td>\n",
       "      <td>0.0</td>\n",
       "      <td>1.0</td>\n",
       "      <td>0.0</td>\n",
       "      <td>0.0</td>\n",
       "      <td>...</td>\n",
       "      <td>5.0</td>\n",
       "      <td>0.0</td>\n",
       "      <td>4.0</td>\n",
       "      <td>1.0</td>\n",
       "      <td>0.0</td>\n",
       "      <td>0.0</td>\n",
       "      <td>1.0</td>\n",
       "      <td>0.000000</td>\n",
       "      <td>0.000000</td>\n",
       "      <td>8.130714</td>\n",
       "    </tr>\n",
       "  </tbody>\n",
       "</table>\n",
       "<p>5 rows × 36 columns</p>\n",
       "</div>"
      ],
      "text/plain": [
       "   Client Sex  Age  Tenure  Count_CA  Count_SA  Count_MF  Count_OVD  Count_CC  \\\n",
       "1    1217   1   38     165         1       0.0       0.0        0.0       0.0   \n",
       "2     850   0   49      44         1       0.0       0.0        0.0       0.0   \n",
       "3    1473   1   54      34         1       1.0       0.0        0.0       1.0   \n",
       "4    1038   1   29     106         1       0.0       0.0        0.0       0.0   \n",
       "5     225   1   14     187         1       0.0       0.0        1.0       0.0   \n",
       "\n",
       "   Count_CL  ...  TransactionsDeb_CA  TransactionsDebCash_Card  \\\n",
       "1       0.0  ...                 1.0                       0.0   \n",
       "2       0.0  ...                 6.0                       0.0   \n",
       "3       1.0  ...                38.0                       1.0   \n",
       "4       0.0  ...                 0.0                       0.0   \n",
       "5       0.0  ...                 5.0                       0.0   \n",
       "\n",
       "   TransactionsDebCashless_Card  TransactionsDeb_PaymentOrder  Sale_MF  \\\n",
       "1                           0.0                           1.0      0.0   \n",
       "2                           0.0                           1.0      0.0   \n",
       "3                          26.0                          11.0      1.0   \n",
       "4                           0.0                           0.0      0.0   \n",
       "5                           4.0                           1.0      0.0   \n",
       "\n",
       "   Sale_CC  Sale_CL  Revenue_MF  Revenue_CC  Revenue_CL  \n",
       "1      0.0      0.0    0.000000    0.000000    0.000000  \n",
       "2      1.0      0.0    0.000000    0.893929    0.000000  \n",
       "3      0.0      0.0    4.929643    0.000000    0.000000  \n",
       "4      0.0      0.0    0.000000    0.000000    0.000000  \n",
       "5      0.0      1.0    0.000000    0.000000    8.130714  \n",
       "\n",
       "[5 rows x 36 columns]"
      ]
     },
     "metadata": {},
     "output_type": "display_data"
    }
   ],
   "source": [
    "# 60% conveying training set\n",
    "df_train = df_merge[df_merge['Client'].isin(client_focus)]\n",
    "\n",
    "display(df_train.shape)\n",
    "display(df_train.head())"
   ]
  },
  {
   "cell_type": "markdown",
   "metadata": {},
   "source": [
    "#### Creation of Target Set"
   ]
  },
  {
   "cell_type": "code",
   "execution_count": 17,
   "metadata": {},
   "outputs": [],
   "source": [
    "# Dataset for remaining 40% of clients for Consumer Loan\n",
    "# clients_to_remove = df_sheet5['Client']\n",
    "\n",
    "# df_40_cl = df[~df['Client'].isin(clients_to_remove)]\n",
    "\n",
    "# df_40_cl.drop(['Count_CL', 'ActBal_CL'], inplace=True, axis=1)\n",
    "\n",
    "# df_40_cl.head()"
   ]
  },
  {
   "cell_type": "markdown",
   "metadata": {},
   "source": [
    "#### Creation of Training Set"
   ]
  },
  {
   "cell_type": "code",
   "execution_count": 18,
   "metadata": {},
   "outputs": [],
   "source": [
    "# Create full training set for consumer loan\n",
    "consumer_loan = ['Sale_MF','Sale_CC','Revenue_MF','Revenue_CC','Count_CL','ActBal_CL']\n",
    "df_train_cl = df_train.drop(consumer_loan,axis=1)\n",
    "\n",
    "# Create full training set for credit card\n",
    "credit_card = ['Sale_MF','Sale_CL','Revenue_MF','Revenue_CL','Count_CC','ActBal_CC']\n",
    "df_train_cc  = df_train.drop(credit_card,axis=1)\n",
    "\n",
    "# Create full training set for mutual fund\n",
    "mutual_fund = ['Sale_CC','Sale_CL','Revenue_CC','Revenue_CL','Count_MF','ActBal_MF']\n",
    "df_train_mf = df_train.drop(mutual_fund,axis=1)"
   ]
  },
  {
   "cell_type": "code",
   "execution_count": 19,
   "metadata": {},
   "outputs": [
    {
     "name": "stdout",
     "output_type": "stream",
     "text": [
      "(969, 30)\n",
      "(969, 30)\n",
      "(969, 30)\n"
     ]
    }
   ],
   "source": [
    "print(df_train_cl.shape)\n",
    "print(df_train_cc.shape)\n",
    "print(df_train_mf.shape)"
   ]
  },
  {
   "cell_type": "markdown",
   "metadata": {},
   "source": [
    "##### Imbalance of Datasets"
   ]
  },
  {
   "cell_type": "code",
   "execution_count": 20,
   "metadata": {},
   "outputs": [
    {
     "data": {
      "image/png": "[encoded data removed]",
      "text/plain": [
       "<Figure size 1200x400 with 3 Axes>"
      ]
     },
     "metadata": {},
     "output_type": "display_data"
    }
   ],
   "source": [
    "# Reviewing whether there is imbalance of the datasets\n",
    "\n",
    "fig, (ax1, ax2, ax3) = plt.subplots(nrows=1, ncols=3, figsize=(12, 4))\n",
    "\n",
    "# Sale_CL\n",
    "sns.countplot(x='Sale_CL', data=df_train_cl, palette=[\"black\", \"orange\"], ax=ax1)\n",
    "ax1.set_xlabel('Sales_CL')\n",
    "ax1.set_ylabel('Count')\n",
    "ax1.set_title('Distribution of Sales_CL')\n",
    "\n",
    "# Sale_CC\n",
    "sns.countplot(x='Sale_CC', data=df_train_cc, palette=[\"black\", \"orange\"], ax=ax2)\n",
    "ax2.set_xlabel('Sales_CC')\n",
    "ax2.set_ylabel('Count')\n",
    "ax2.set_title('Distribution of Sales_CC')\n",
    "\n",
    "# Sale_MF\n",
    "sns.countplot(x='Sale_MF', data=df_train_mf, palette=[\"black\", \"orange\"], ax=ax3)\n",
    "ax3.set_xlabel('Sales_MF')\n",
    "ax3.set_ylabel('Count')\n",
    "ax3.set_title('Distribution of Sales_MF')\n",
    "\n",
    "plt.show()\n"
   ]
  },
  {
   "cell_type": "markdown",
   "metadata": {},
   "source": [
    "As can be seen from the bar charts, there is indeed the scenario of an imbalanced dataset. Herein, I will use methods such as Random Forests and GradientBoosting which are more robust towards imbalanced datasets. Moreover, I will use performance metrics such as precision, recall, F1-score and AUC, which are more suitable for similar datasets"
   ]
  },
  {
   "cell_type": "markdown",
   "metadata": {},
   "source": [
    "#### Saving Datasets"
   ]
  },
  {
   "cell_type": "code",
   "execution_count": 21,
   "metadata": {},
   "outputs": [],
   "source": [
    "directory_path = 'Pickle_Files'\n",
    "\n",
    "os.makedirs(directory_path, exist_ok=True)\n",
    "\n",
    "file_path1 = 'Pickle_Files/Customer_Loan.pkl'\n",
    "file_path2 = 'Pickle_Files/Credit_Card.pkl'\n",
    "file_path3 = 'Pickle_Files/Mutual_Fund.pkl'\n",
    "file_path4 = 'Pickle_Files/40pct.pkl'\n",
    "\n",
    "with open(file_path1, 'wb') as f1:\n",
    "    pickle.dump(df_train_cl, f1)\n",
    "\n",
    "with open(file_path2, 'wb') as f2:\n",
    "    pickle.dump(df_train_cc, f2)\n",
    "\n",
    "with open(file_path3, 'wb') as f3:\n",
    "    pickle.dump(df_train_mf, f3)\n",
    "\n",
    "with open(file_path4, 'wb') as f4:\n",
    "    pickle.dump(df_40, f4)\n"
   ]
  },
  {
   "cell_type": "markdown",
   "metadata": {},
   "source": [
    "#### Top 100 Clients for Marketing Outreach"
   ]
  },
  {
   "cell_type": "code",
   "execution_count": 22,
   "metadata": {},
   "outputs": [],
   "source": [
    "with open('Pickle_Files/Revenue_MF.pkl', 'rb') as f5:\n",
    "     mutual_fund= pickle.load(f5)\n",
    "with open('Pickle_Files/Revenue_CC.pkl', 'rb') as f6:\n",
    "     credit_card= pickle.load(f6)\n",
    "with open('Pickle_Files/Revenue_CL.pkl', 'rb') as f7:\n",
    "     consumer_loan= pickle.load(f7)"
   ]
  },
  {
   "cell_type": "code",
   "execution_count": 28,
   "metadata": {},
   "outputs": [
    {
     "data": {
      "text/plain": [
       "Product\n",
       "CC    38\n",
       "MF    34\n",
       "CL    28\n",
       "Name: count, dtype: int64"
      ]
     },
     "metadata": {},
     "output_type": "display_data"
    },
    {
     "data": {
      "text/html": [
       "<div>\n",
       "<style scoped>\n",
       "    .dataframe tbody tr th:only-of-type {\n",
       "        vertical-align: middle;\n",
       "    }\n",
       "\n",
       "    .dataframe tbody tr th {\n",
       "        vertical-align: top;\n",
       "    }\n",
       "\n",
       "    .dataframe thead th {\n",
       "        text-align: right;\n",
       "    }\n",
       "</style>\n",
       "<table border=\"1\" class=\"dataframe\">\n",
       "  <thead>\n",
       "    <tr style=\"text-align: right;\">\n",
       "      <th></th>\n",
       "      <th>Client</th>\n",
       "      <th>Revenue</th>\n",
       "      <th>Product</th>\n",
       "    </tr>\n",
       "  </thead>\n",
       "  <tbody>\n",
       "    <tr>\n",
       "      <th>90</th>\n",
       "      <td>84</td>\n",
       "      <td>133.131639</td>\n",
       "      <td>CC</td>\n",
       "    </tr>\n",
       "    <tr>\n",
       "      <th>528</th>\n",
       "      <td>1073</td>\n",
       "      <td>96.356211</td>\n",
       "      <td>CC</td>\n",
       "    </tr>\n",
       "    <tr>\n",
       "      <th>459</th>\n",
       "      <td>1389</td>\n",
       "      <td>83.503807</td>\n",
       "      <td>CC</td>\n",
       "    </tr>\n",
       "    <tr>\n",
       "      <th>171</th>\n",
       "      <td>1460</td>\n",
       "      <td>82.448661</td>\n",
       "      <td>CC</td>\n",
       "    </tr>\n",
       "    <tr>\n",
       "      <th>415</th>\n",
       "      <td>940</td>\n",
       "      <td>59.423071</td>\n",
       "      <td>CC</td>\n",
       "    </tr>\n",
       "    <tr>\n",
       "      <th>...</th>\n",
       "      <td>...</td>\n",
       "      <td>...</td>\n",
       "      <td>...</td>\n",
       "    </tr>\n",
       "    <tr>\n",
       "      <th>89</th>\n",
       "      <td>382</td>\n",
       "      <td>10.353014</td>\n",
       "      <td>CC</td>\n",
       "    </tr>\n",
       "    <tr>\n",
       "      <th>95</th>\n",
       "      <td>1599</td>\n",
       "      <td>10.107725</td>\n",
       "      <td>CL</td>\n",
       "    </tr>\n",
       "    <tr>\n",
       "      <th>34</th>\n",
       "      <td>1063</td>\n",
       "      <td>10.046711</td>\n",
       "      <td>CL</td>\n",
       "    </tr>\n",
       "    <tr>\n",
       "      <th>185</th>\n",
       "      <td>1243</td>\n",
       "      <td>10.031614</td>\n",
       "      <td>CL</td>\n",
       "    </tr>\n",
       "    <tr>\n",
       "      <th>382</th>\n",
       "      <td>1093</td>\n",
       "      <td>9.937254</td>\n",
       "      <td>CL</td>\n",
       "    </tr>\n",
       "  </tbody>\n",
       "</table>\n",
       "<p>100 rows × 3 columns</p>\n",
       "</div>"
      ],
      "text/plain": [
       "     Client     Revenue Product\n",
       "90       84  133.131639      CC\n",
       "528    1073   96.356211      CC\n",
       "459    1389   83.503807      CC\n",
       "171    1460   82.448661      CC\n",
       "415     940   59.423071      CC\n",
       "..      ...         ...     ...\n",
       "89      382   10.353014      CC\n",
       "95     1599   10.107725      CL\n",
       "34     1063   10.046711      CL\n",
       "185    1243   10.031614      CL\n",
       "382    1093    9.937254      CL\n",
       "\n",
       "[100 rows x 3 columns]"
      ]
     },
     "execution_count": 28,
     "metadata": {},
     "output_type": "execute_result"
    }
   ],
   "source": [
    "# Extract top 100 clients and their respective product\n",
    "marketing_clients = pd.concat([mutual_fund, credit_card, consumer_loan])\n",
    "\n",
    "marketing_clients.sort_values(by=['Revenue'], ascending=False,inplace=True)\n",
    "\n",
    "marketing_clients.drop_duplicates(subset='Client', keep='first',inplace=True)\n",
    "\n",
    "top_100_revenues = marketing_clients.head(100)\n",
    "\n",
    "display(top_100_revenues['Product'].value_counts())\n",
    "top_100_revenues"
   ]
  },
  {
   "cell_type": "code",
   "execution_count": 26,
   "metadata": {},
   "outputs": [
    {
     "data": {
      "image/png": "[encoded data removed]",
      "text/plain": [
       "<Figure size 400x400 with 1 Axes>"
      ]
     },
     "metadata": {},
     "output_type": "display_data"
    }
   ],
   "source": [
    "import seaborn as sns\n",
    "import matplotlib.pyplot as plt\n",
    "\n",
    "fig, ax1 = plt.subplots(nrows=1, ncols=1, figsize=(4, 4))\n",
    "\n",
    "sns.countplot(x='Product', data=top_100_revenues, palette=[\"black\", \"orange\", \"red\"], ax=ax1)\n",
    "ax1.set_xlabel('Product Type')\n",
    "ax1.set_ylabel('Count')\n",
    "ax1.set_title('Count of Each Product Type in Top 100 Revenues')\n",
    "\n",
    "plt.show()\n"
   ]
  },
  {
   "cell_type": "code",
   "execution_count": 25,
   "metadata": {},
   "outputs": [
    {
     "name": "stdout",
     "output_type": "stream",
     "text": [
      "Potential revenue to be generated: 2276 EUR\n"
     ]
    }
   ],
   "source": [
    "# Potential Revenue Generated\n",
    "\n",
    "print(f'Potential revenue to be generated: { int(top_100_revenues[\"Revenue\"].sum())} EUR')"
   ]
  }
 ],
 "metadata": {
  "kernelspec": {
   "display_name": "kbc_env",
   "language": "python",
   "name": "python3"
  },
  "language_info": {
   "codemirror_mode": {
    "name": "ipython",
    "version": 3
   },
   "file_extension": ".py",
   "mimetype": "text/x-python",
   "name": "python",
   "nbconvert_exporter": "python",
   "pygments_lexer": "ipython3",
   "version": "3.11.6"
  }
 },
 "nbformat": 4,
 "nbformat_minor": 2
}
